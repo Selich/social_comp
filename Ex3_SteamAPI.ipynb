{
 "cells": [
  {
   "cell_type": "markdown",
   "metadata": {},
   "source": [
    "# Social Computing/Social Gaming - Summer 2022\n",
    "\n",
    "# Exercise Sheet 3: Collaborative Filtering with Steam Games\n",
    "\n",
    "In this exercise, we will build a collaborative filtering recommender system using data we gather from Steam. We will use your friends list to get information about owned games for each ID, and the time each game was played.\n",
    "\n",
    "Usually, collaborative filtering is based on some sort of rating to determine the similarity between users. However, for games, the enjoyment and a rating do not always match. Additionally, only about 10% of players actually rate the games they play, which would make for a very incomplete dataset. Therefore, the playtime will be used instead of a rating system. This has the added benefit that playtime is usually the most authentic metric of enjoyment, as players are very unlikely to spend much time on a game they don't enjoy."
   ]
  },
  {
   "cell_type": "markdown",
   "metadata": {},
   "source": [
    "## Task 3.1: Obtaining the data\n",
    "\n",
    "\n",
    "**1.** Your first task is to **gather the data** needed to create the recommender system. **Create a data structure** that holds the needed information for each player and game. To do this, **open the URL** with the given `request()` function, **read** the json response and retrieve your games library and playtime. Then **save** the games into a dictionary with `key=name` and `values=playtime`. **Do not add** games with 0 playtime to this dictionary.\n",
    "\n",
    "\n",
    "**Notes:** \n",
    "- You have three different options to solve this exercise. You can either:\n",
    "    - Use your own Steam profile (strongly recommended)\n",
    "    - Use the provided default Steam account (in case you do not own a Steam profile)\n",
    "    - Use the provided .json file (in case you do not have a Steam profile and the default Steam account becomes overcrowded)\n",
    "- your choice will not affect your grade in any way\n",
    "- You cannot obtain a list from your profile with the Steam API unless your profile is set to public. \n",
    "- Upon executing the code below, you will notice that a lot of profiles \"`couldnt decode`\". These are private or deleted profiles and it is totally fine to get this message.\n",
    "\n",
    "\n",
    "**Hints**:\n",
    "- In case you wish to use your own Steam profile, but are afraid to share your personal [key](https://steamcommunity.com/dev/apikey) [1] and id, please be informed that you can delete them **after** solving the tasks and before submitting your solutions. The outputs will be saved in the Jupyter Notebook.\n",
    "- To obtain the games a user owns, use this: `games = data['response']['games']`. This returns a list of games, including the playtime (in minutes) which can be retrieved like this: `playtime = game['playtime_forever']`, where game refers to an item from the list of games. "
   ]
  },
  {
   "cell_type": "markdown",
   "metadata": {},
   "source": [
    "Execute the following code cell to install the needed library for this exercise."
   ]
  },
  {
   "cell_type": "code",
   "execution_count": 2,
   "metadata": {},
   "outputs": [
    {
     "name": "stdout",
     "output_type": "stream",
     "text": [
      "Requirement already satisfied: mlxtend in /opt/homebrew/Caskroom/miniconda/base/lib/python3.9/site-packages (0.20.0)\n",
      "Requirement already satisfied: pandas>=0.24.2 in /opt/homebrew/Caskroom/miniconda/base/lib/python3.9/site-packages (from mlxtend) (1.4.2)\n",
      "Requirement already satisfied: numpy>=1.16.2 in /opt/homebrew/Caskroom/miniconda/base/lib/python3.9/site-packages (from mlxtend) (1.21.5)\n",
      "Requirement already satisfied: joblib>=0.13.2 in /opt/homebrew/Caskroom/miniconda/base/lib/python3.9/site-packages (from mlxtend) (1.1.0)\n",
      "Requirement already satisfied: scikit-learn>=1.0.2 in /opt/homebrew/Caskroom/miniconda/base/lib/python3.9/site-packages (from mlxtend) (1.0.2)\n",
      "Requirement already satisfied: setuptools in /opt/homebrew/Caskroom/miniconda/base/lib/python3.9/site-packages (from mlxtend) (61.2.0)\n",
      "Requirement already satisfied: scipy>=1.2.1 in /opt/homebrew/Caskroom/miniconda/base/lib/python3.9/site-packages (from mlxtend) (1.7.3)\n",
      "Requirement already satisfied: matplotlib>=3.0.0 in /opt/homebrew/Caskroom/miniconda/base/lib/python3.9/site-packages (from mlxtend) (3.5.1)\n",
      "Requirement already satisfied: kiwisolver>=1.0.1 in /opt/homebrew/Caskroom/miniconda/base/lib/python3.9/site-packages (from matplotlib>=3.0.0->mlxtend) (1.4.2)\n",
      "Requirement already satisfied: fonttools>=4.22.0 in /opt/homebrew/Caskroom/miniconda/base/lib/python3.9/site-packages (from matplotlib>=3.0.0->mlxtend) (4.25.0)\n",
      "Requirement already satisfied: cycler>=0.10 in /opt/homebrew/Caskroom/miniconda/base/lib/python3.9/site-packages (from matplotlib>=3.0.0->mlxtend) (0.11.0)\n",
      "Requirement already satisfied: pillow>=6.2.0 in /opt/homebrew/Caskroom/miniconda/base/lib/python3.9/site-packages (from matplotlib>=3.0.0->mlxtend) (8.3.1)\n",
      "Requirement already satisfied: pyparsing>=2.2.1 in /opt/homebrew/Caskroom/miniconda/base/lib/python3.9/site-packages (from matplotlib>=3.0.0->mlxtend) (3.0.4)\n",
      "Requirement already satisfied: packaging>=20.0 in /opt/homebrew/Caskroom/miniconda/base/lib/python3.9/site-packages (from matplotlib>=3.0.0->mlxtend) (21.3)\n",
      "Requirement already satisfied: python-dateutil>=2.7 in /opt/homebrew/Caskroom/miniconda/base/lib/python3.9/site-packages (from matplotlib>=3.0.0->mlxtend) (2.8.2)\n",
      "Requirement already satisfied: pytz>=2020.1 in /opt/homebrew/Caskroom/miniconda/base/lib/python3.9/site-packages (from pandas>=0.24.2->mlxtend) (2021.3)\n",
      "Requirement already satisfied: six>=1.5 in /opt/homebrew/Caskroom/miniconda/base/lib/python3.9/site-packages (from python-dateutil>=2.7->matplotlib>=3.0.0->mlxtend) (1.16.0)\n",
      "Requirement already satisfied: threadpoolctl>=2.0.0 in /opt/homebrew/Caskroom/miniconda/base/lib/python3.9/site-packages (from scikit-learn>=1.0.2->mlxtend) (2.2.0)\n"
     ]
    }
   ],
   "source": [
    "!pip install mlxtend"
   ]
  },
  {
   "cell_type": "code",
   "execution_count": 13,
   "metadata": {
    "scrolled": false
   },
   "outputs": [
    {
     "name": "stdout",
     "output_type": "stream",
     "text": [
      "6 ok\n",
      "401\n",
      "couldn't decode\n",
      "335\n"
     ]
    }
   ],
   "source": [
    "# Use this if you want to work with the default IDs\n",
    "import requests\n",
    "import urllib\n",
    "import pandas as pd\n",
    "import json\n",
    "from urllib.request import Request, urlopen\n",
    "from pandas.io.json import json_normalize\n",
    "from requests.exceptions import HTTPError\n",
    "\n",
    "# You can replace these values with your own ID and API key\n",
    "key = \"FB779ED85245344586B27465C0F5A7F2\"\n",
    "id = \"76561198134752407\"\n",
    "url = \"http://api.steampowered.com/ISteamUser/GetPlayerSummaries/v0002/?key=\"+key+\"&steamids=\"+id\n",
    "r = requests.get(url)\n",
    "data = r.json()\n",
    "\n",
    "# Get friendslist\n",
    "# This is just a template. In order to get your personalized list, you need to change the id and key above.\n",
    "request = Request(\"http://api.steampowered.com/ISteamUser/GetFriendList/v0001/?key=\"+key+\"&steamid=\"+id+\"&relationship=friend\")\n",
    "response = urlopen(request)\n",
    "elevations = response.read()\n",
    "data = json.loads(elevations)\n",
    "friendslist = data['friendslist']\n",
    "friends = friendslist['friends']\n",
    "\n",
    "# Get all friends\n",
    "friendids = []\n",
    "tempIDs = []\n",
    "for friend in friends:\n",
    "    friendids.append(friend['steamid'])\n",
    "    \n",
    "print(len(friendids), \"ok\")\n",
    "\n",
    "# Get friends of friends\n",
    "x = 0\n",
    "\n",
    "while x < len(friendids):\n",
    "    friendID = friendids[x]\n",
    "    request = Request(\"http://api.steampowered.com/ISteamUser/GetFriendList/v0001/?key=\"+key+\"&steamid=\"+friendID+\"&relationship=friend\")\n",
    "    try:\n",
    "        response = urlopen(request)    \n",
    "    except urllib.error.HTTPError as e:\n",
    "        print('401')\n",
    "    elevations = response.read()\n",
    "    try:\n",
    "        data = json.loads(elevations)\n",
    "    except json.JSONDecodeError:\n",
    "        print(\"couldn't decode\")\n",
    "    friendslist = data['friendslist']\n",
    "    friends = friendslist['friends']\n",
    "\n",
    "    friendidsNew = []\n",
    "    for friend in friends:\n",
    "        friendidsNew.append(friend['steamid'])\n",
    "        \n",
    "    tempIDs += friendidsNew\n",
    "    x += 1\n",
    "\n",
    "friendids += tempIDs\n",
    "friendids = list(dict.fromkeys(friendids))\n",
    "friendids = list(set(friendids))\n",
    "print(len(friendids))\n"
   ]
  },
  {
   "cell_type": "code",
   "execution_count": 15,
   "metadata": {},
   "outputs": [
    {
     "name": "stdout",
     "output_type": "stream",
     "text": [
      "250\n",
      "{'Left 4 Dead 2': 1135, 'Stronghold Kingdoms': 39, 'PlanetSide 2': 254, 'Warframe': 620, 'War Thunder': 2833, 'Path of Exile': 7945, 'Cry of Fear': 30, 'Counter-Strike Nexon: Studio': 9, 'Trove': 1, 'Unturned': 25, 'NEOTOKYO°': 613, 'Heroes & Generals': 1, 'Counter-Strike: Global Offensive': 23191, 'Zero-K': 1, 'Clicker Heroes': 10799, 'Neverwinter Nights: Enhanced Edition': 127, 'Crusader Kings II': 3609, 'Among Us': 499, 'Mindustry': 3}\n"
     ]
    }
   ],
   "source": [
    "# Trim the list of IDs to reasonable values:\n",
    "if len(friendids)>250:\n",
    "    friendids = friendids[:250]\n",
    "print(len(friendids))\n",
    "\n",
    "users_gamedicts = {} # The dictionary containing all information for every ID\n",
    "gamedict = {} # A dict containing information for one player\n",
    "\n",
    "# Get owned games of friendslist:\n",
    "request = Request(\"http://api.steampowered.com/IPlayerService/GetOwnedGames/v0001/?key=\"+key+\"&steamid=\"+id+\"&include_appinfo=1&format=json\")\n",
    "\n",
    "# TODO:\n",
    "# Open the URL, read the json response and retrieve your games library and playtime\n",
    "# Save the games into a dictionary with key=name and values=playtime\n",
    "# Hint 1: You can obtain the games a user owns with data['response']['games']\n",
    "# Hint 2: You can retrieve their playtime with game['playtime_forever']\n",
    "data = json.loads(urlopen(request).read())\n",
    "res = data['response']\n",
    "for game in res['games']:\n",
    "    if game['playtime_forever'] > 0:\n",
    "        gamedict.update({game['name']:game['playtime_forever']})\n",
    "\n",
    "# Add the dictionary to the users_gamedict       \n",
    "users_gamedicts[id] = gamedict\n",
    "\n",
    "# Do the same for your friends and their friends\n",
    "for friendID in friendids:\n",
    "    # TODO:\n",
    "    request = Request(\"http://api.steampowered.com/IPlayerService/GetOwnedGames/v0001/?key=\"+key+\"&steamid=\"+friendID+\"&include_appinfo=1&format=json\")\n",
    "    data = json.loads(urlopen(request).read())\n",
    "    res = data['response']\n",
    "    gamedict_new = {}\n",
    "    if 'games' in data.keys():\n",
    "        for game in data['games']:\n",
    "            if game['playtime_forever'] > 0:\n",
    "                gamedict_new.update({game['name']:game['playtime_forever']})\n",
    "    \n",
    "        users_gamedicts[friendID] = gamedict\n",
    "\n",
    "        \n",
    "print(users_gamedicts[id])"
   ]
  },
  {
   "cell_type": "code",
   "execution_count": 16,
   "metadata": {},
   "outputs": [
    {
     "name": "stdout",
     "output_type": "stream",
     "text": [
      "['Left 4 Dead 2', 'Stronghold Kingdoms', 'PlanetSide 2', 'Warframe', 'War Thunder', 'Path of Exile', 'Cry of Fear', 'Counter-Strike Nexon: Studio', 'Trove', 'Unturned', 'NEOTOKYO°', 'Heroes & Generals', 'Counter-Strike: Global Offensive', 'Zero-K', 'Clicker Heroes', 'Neverwinter Nights: Enhanced Edition', 'Crusader Kings II', 'Among Us', 'Mindustry']\n"
     ]
    }
   ],
   "source": [
    "gamesofallusers = []\n",
    "\n",
    "# TODO 1: Convert the gamedict to a list of lists:\n",
    "\n",
    "for idx in users_gamedicts:\n",
    "    games = [game for game in users_gamedicts[idx]]\n",
    "    gamesofallusers.append(games)\n",
    "\n",
    "\n",
    "# It should look something like this:\n",
    "'''\n",
    "[\n",
    "    [\n",
    "    'Path of Exile',\n",
    "    'Europa Universalis IV',\n",
    "    'Titan Quest Anniversary Edition',\n",
    "    'Black Desert Online',\n",
    "    'Crusader Kings II'\n",
    "    ],\n",
    "    [\n",
    "    'Counter-Strike',\n",
    "    'Day of Defeat',\n",
    "    'Deathmatch Classic',\n",
    "    'Ricochet'\n",
    "    ]\n",
    "]\n",
    "''' \n",
    "# Each list within this list represents the games of one user\n",
    "print(gamesofallusers[0])\n",
    "    \n",
    "    \n",
    "# Remove common Steam entries that are not games:\n",
    "for game in gamesofallusers:\n",
    "    if 'Dota 2 Test' in game:\n",
    "        game.remove('Dota 2 Test')\n",
    "    if 'True Sight' in game:\n",
    "        game.remove('True Sight')\n",
    "    if 'True Sight: Episode 1' in game:\n",
    "        game.remove('True Sight: Episode 1')\n",
    "    if 'True Sight: Episode 2' in game:\n",
    "        game.remove('True Sight: Episode 2')\n",
    "    if 'True Sight: Episode 3' in game:\n",
    "        game.remove('True Sight: Episode 3')\n",
    "    if 'True Sight: The Kiev Major Grand Finals' in game:\n",
    "        game.remove('True Sight: The Kiev Major Grand Finals')\n",
    "    if 'True Sight: The International 2017' in game:\n",
    "        game.remove('True Sight: The International 2017')\n",
    "    if 'True Sight: The International 2018 Finals' in game:\n",
    "        game.remove('True Sight: The International 2018 Finals')\n",
    "        "
   ]
  },
  {
   "cell_type": "code",
   "execution_count": 27,
   "metadata": {},
   "outputs": [
    {
     "name": "stdout",
     "output_type": "stream",
     "text": [
      "        support                                           itemsets\n",
      "0           1.0                                         (Among Us)\n",
      "349520      1.0  (Left 4 Dead 2, NEOTOKYO°, Heroes & Generals, ...\n",
      "349533      1.0  (Left 4 Dead 2, NEOTOKYO°, Heroes & Generals, ...\n",
      "349532      1.0  (Left 4 Dead 2, NEOTOKYO°, Heroes & Generals, ...\n",
      "349531      1.0  (Left 4 Dead 2, NEOTOKYO°, Heroes & Generals, ...\n",
      "...         ...                                                ...\n",
      "174757      1.0  (Clicker Heroes, Stronghold Kingdoms, Among Us...\n",
      "174756      1.0  (Clicker Heroes, Stronghold Kingdoms, Among Us...\n",
      "174755      1.0  (Clicker Heroes, Stronghold Kingdoms, Among Us...\n",
      "174754      1.0  (Clicker Heroes, Stronghold Kingdoms, Among Us...\n",
      "524286      1.0  (Left 4 Dead 2, Among Us, Cry of Fear, Counter...\n",
      "\n",
      "[524287 rows x 2 columns]\n"
     ]
    }
   ],
   "source": [
    "import pandas as pd\n",
    "from mlxtend.preprocessing import TransactionEncoder\n",
    "from mlxtend.frequent_patterns import apriori\n",
    "\n",
    "te = TransactionEncoder()\n",
    "# TODO 2: Tinker around with the values\n",
    "temp = te.fit(gamesofallusers).transform(gamesofallusers)\n",
    "df = pd.DataFrame(temp, columns=te.columns_)\n",
    "items = apriori(df, min_support=0.5, use_colnames=True)\n",
    "\n",
    "print(items.where(items['support'] > 0.0).sort_values(by='support', ascending=False))"
   ]
  },
  {
   "cell_type": "code",
   "execution_count": 28,
   "metadata": {},
   "outputs": [],
   "source": [
    "from mlxtend.frequent_patterns import association_rules\n",
    "\n",
    "# TODO 2: Play around with the treshold value\n",
    "temp = association_rules(items, metric=\"confidence\", min_threshold=0.1)\n",
    "print(\"Min Threshold: 0.1\")\n",
    "print(temp)\n",
    "\n",
    "\n",
    "temp = association_rules(items, metric=\"confidence\", min_threshold=0.5)\n",
    "print(\"Min Threshold: 0.5\")\n",
    "print(temp)"
   ]
  },
  {
   "cell_type": "markdown",
   "metadata": {},
   "source": [
    "**TODO 2: Write your observations here**\n",
    "\n",
    "- From the association rule output, one can recommend Counter-Strike: Global Offensive if an user plays PAYDAY 2 as the confidence is 1, the highest. Similarly same recommendation can be made if an user plays Garry's Mod as the confidence is second highest.\n",
    "\n",
    "- Confidence of 1 means that the player who plays game x also plays game y. So, it can be used as a measure to recommend games. It doesn't capture how similar two games are, rather only look at whether y is played by players who play x.\n",
    "\n",
    "- Highest support is for Counter-Strike: Global Offensive from the frequent_itemlist. Highest confidence is for PAYDAY 2 as andecedent and Counter-Strike: Global Offensive as consequent from the association_rules. One can infer a correlation that the game with the highest similarity is the consequent in the association rule. This makes sense because the highest support means that the game is played by most players in the dataset. So, this game has higher chance of being a consequent or a suitable candidate for recommending as it would appear together with many other games.\n",
    "\n",
    "- Lift can't be commented in the above scenario as it captures the correlation of andecedents and consequents. The one with highest confidence need not have high Lift as seen from the association rules. This is because confidence doesn't take into account the correlation between x and y. The highest Lift is for PLAYERUNKNOWN'S BATTLEGROUNDS as andecedent and Left 4 Dead 2 as consequent.\n"
   ]
  },
  {
   "cell_type": "markdown",
   "metadata": {},
   "source": [
    "## Task 3.3: The Recommender System: Similarity Score\n",
    "\n",
    "\n",
    "Finally, it is time to build the recommender system. \n",
    "\n",
    "**1.** The first thing to do is to **implement a similarity score** that will be used to predict a user's playtime of an unowned game. We implement a similarity score between two users by taking the relative distance between two players. We use the following formula:\n",
    "\n",
    "$$d(u, v) = \\sum_{i~\\in~common~games} \\frac{|r_{u,i} - r_{v,i}|}{r_{v,i}}$$ \n",
    "\n",
    "Where $u$ and $v$ are users and $r_{u,i}$ is the playtime of user $u$ for game $i$. \n",
    "\n",
    "You can then return the similarity with  \n",
    "$$ w_{u,v} = \\frac{1}{1 + d(u, v)} $$\n",
    "\n",
    "**Notes:** \n",
    "- If no common games exist return 0."
   ]
  },
  {
   "cell_type": "markdown",
   "metadata": {},
   "source": [
    "**a) Implement similarity scores:** Besides the given similarity score, we want to explore how other measurements behave. Hence, we will implement the euclidean distance and cosine similarity. The scores can be selected by setting the respective variable on `True`."
   ]
  },
  {
   "cell_type": "code",
   "execution_count": null,
   "metadata": {},
   "outputs": [],
   "source": [
    "from math import sqrt\n",
    "    \n",
    "def calculate_similarity(user1ID, user2ID, given=True, euclidean=False, cosine=False):    \n",
    "    common_games = []\n",
    "    user1games = users_gamedicts[user1ID]\n",
    "    user2games = users_gamedicts.get(user2ID,user1games)\n",
    "    common_games = list(set(user1games).intersection(user2games))\n",
    "    differences = []\n",
    "    \n",
    "    # TODO: Calculate the similarity score between two friends based on their common games:\n",
    "    # Needs to be done\n",
    "    if(euclidean):\n",
    "        for game in common_games:\n",
    "            differences.append(abs(user1games[game]-user2games[game]))\n",
    "        return sqrt(sum(differences))\n",
    "    elif(cosine):\n",
    "        for game in common_games:\n",
    "            differences.append(user1games[game]*user2games[game])\n",
    "        return sum(differences)\n",
    "    elif(given):\n",
    "        d = 0\n",
    "        for i in common_games:\n",
    "            d += abs(user1ID[i] - user2ID[i])/user2ID[i]\n",
    "        if len(common_games) == 0:\n",
    "            return 0\n",
    "        return 1/(1+d)\n"
   ]
  },
  {
   "cell_type": "markdown",
   "metadata": {},
   "source": [
    "## Task 3.4: Recommender System: Predict ratings\n",
    "\n",
    "With the similarity score calculated, we can now predict a user's playtime for games they don't own.\n",
    "\n",
    "**1.** First, we **create a set of all games**, but we **delete** all games that are owned by less than 3 players. The reason is simple: If only 1 or 2 players own a game, it is impossible to derive a meaningful prediction since there is not enough data. \n",
    "\n",
    "The predicted playtime for a game works analogous to the predicted rating of a movie/item in a conventional collaborative filtering recommender system:\n",
    "\n",
    "$$r_{u,i} = \\frac{\\sum_{v \\in N_i(u)} w_{u,v}r_{v,i}}{\\sum_{v \\in N_i(u)} w_{u,v}}$$\n",
    "\n",
    "where \n",
    "- $r_{u,i}$ is the estimated recommendation of item $i$ for target user $u$. \n",
    "- $N_i(u)$ is the set of similar users to target user $u$ for the designated item $i$. \n",
    "- $w_{u,v}$ is the similarity score between users $u$ and $v$ (used as a weighting factor).  \n",
    "\n",
    "**Notes:** \n",
    "- In our case, we use playtime as a recommendation measure and the set $N_i(u)$ consists of user $u$ friends list and friends of friends list. In our scenario, we do not need the index $i$ as our friends list does not change between games.\n",
    "- Keep in mind that we have already taken out the games with a playtime of 0. In this case, they are considered \"unowned\" and not taken into account in this exercise."
   ]
  },
  {
   "cell_type": "code",
   "execution_count": null,
   "metadata": {},
   "outputs": [
    {
     "ename": "NameError",
     "evalue": "name 'gamesofallusers' is not defined",
     "output_type": "error",
     "traceback": [
      "\u001b[0;31m---------------------------------------------------------------------------\u001b[0m",
      "\u001b[0;31mNameError\u001b[0m                                 Traceback (most recent call last)",
      "\u001b[0;32m/var/folders/s_/77my9lpx3fvfgj8x3h74733r0000gn/T/ipykernel_68955/3306553744.py\u001b[0m in \u001b[0;36m<module>\u001b[0;34m\u001b[0m\n\u001b[1;32m      1\u001b[0m \u001b[0;31m# List of all games that are owned by at least 1 person\u001b[0m\u001b[0;34m\u001b[0m\u001b[0;34m\u001b[0m\u001b[0m\n\u001b[1;32m      2\u001b[0m \u001b[0mallGames\u001b[0m \u001b[0;34m=\u001b[0m \u001b[0;34m[\u001b[0m\u001b[0;34m]\u001b[0m\u001b[0;34m\u001b[0m\u001b[0;34m\u001b[0m\u001b[0m\n\u001b[0;32m----> 3\u001b[0;31m \u001b[0;32mfor\u001b[0m \u001b[0muser\u001b[0m \u001b[0;32min\u001b[0m \u001b[0mgamesofallusers\u001b[0m\u001b[0;34m:\u001b[0m\u001b[0;34m\u001b[0m\u001b[0;34m\u001b[0m\u001b[0m\n\u001b[0m\u001b[1;32m      4\u001b[0m     \u001b[0;32mfor\u001b[0m \u001b[0mgame\u001b[0m \u001b[0;32min\u001b[0m \u001b[0muser\u001b[0m\u001b[0;34m:\u001b[0m\u001b[0;34m\u001b[0m\u001b[0;34m\u001b[0m\u001b[0m\n\u001b[1;32m      5\u001b[0m         \u001b[0mallGames\u001b[0m\u001b[0;34m.\u001b[0m\u001b[0mappend\u001b[0m\u001b[0;34m(\u001b[0m\u001b[0mgame\u001b[0m\u001b[0;34m)\u001b[0m\u001b[0;34m\u001b[0m\u001b[0;34m\u001b[0m\u001b[0m\n",
      "\u001b[0;31mNameError\u001b[0m: name 'gamesofallusers' is not defined"
     ]
    }
   ],
   "source": [
    "# List of all games that are owned by at least 1 person\n",
    "allGames = []\n",
    "for user in gamesofallusers:\n",
    "    for game in user:\n",
    "        allGames.append(game)\n",
    "        \n",
    "# TODO : Create a list of games owned by at least 3 people\n",
    "unique_games = list(set(allGames))\n",
    "games = [game for game in unique_games if allGames.count(game) >=3]\n",
    "print('Number of unique games played by >3 ', len(games))\n",
    "\n",
    "# TODO: Find out which games you do not own out of all games because we are only interested in recommendations for games that we do not own\n",
    "def difference(allGames, yourGames): \n",
    "    # TODO:\n",
    "    return [game for game in allGames if game not in yourGames]\n",
    "\n",
    "\n",
    "# TODO: Predict ratings based on the formula above for each unowned game\n",
    "# use 'given', 'euclidean' and 'cosine' to switch between measurements\n",
    "def predict_ratings(given=True, euclidean=False, cosine=False):\n",
    "    similarity_scores = {}\n",
    "    # TODO:\n",
    "    '''Hint: Iterate over all unowned games and for each game calculate a rating based\n",
    "        on your friends playtime and similarity score ''' \n",
    "    if(euclidean):\n",
    "        for game in difference(unique_games, games):\n",
    "            similarity_scores[game] = 0\n",
    "            for friend in users_gamedicts:\n",
    "                if game in users_gamedicts[friend]:\n",
    "                    similarity_scores[game] += 1/calculate_similarity(friend, user, given=given, euclidean=True)\n",
    "            similarity_scores[game] /= len(users_gamedicts)\n",
    "    elif(cosine):\n",
    "        for game in difference(unique_games, games):\n",
    "            similarity_scores[game] = 0\n",
    "            for friend in users_gamedicts:\n",
    "                if game in users_gamedicts[friend]:\n",
    "                    similarity_scores[game] += 1/calculate_similarity(friend, user, given=given, cosine=True)\n",
    "            similarity_scores[game] /= len(users_gamedicts)\n",
    "            \n",
    "    elif(given):\n",
    "        not_owned_games = difference(games, users_gamedicts[int(id)])\n",
    "        rating = {}\n",
    "        for game in not_owned_games:\n",
    "            score_nr = 0\n",
    "            score_dr = 0\n",
    "            for user in users_gamedicts:\n",
    "                if int(id) != user and game in users_gamedicts[user].keys():\n",
    "                    sim = calculate_similarity(users_gamedicts[int(id)],users_gamedicts[user])\n",
    "                    score_nr += sim* users_gamedicts[user][game]\n",
    "                    score_dr += sim\n",
    "            if score_dr != 0:\n",
    "                rating.update({game:score_nr/score_dr})\n",
    "    return rating\n",
    "\n",
    "rating = predict_ratings()\n",
    "print(rating)"
   ]
  },
  {
   "cell_type": "markdown",
   "metadata": {},
   "source": [
    "## Task 3.5: Recommender System: Discussion\n",
    "\n",
    "**1.** **Sort** the predicted ratings by estimated playtime (highest first) and **print out** the top 8 predictions for you (or the default user if you are using the default ID). \n",
    "\n",
    "**2.** **Discuss** the difference in recommendations between the collaborative filtering approach and the association rule approach. Would you consider one more accurate than the other? Why/why not?\n",
    "\n",
    "**3.** **Discuss** the differences in the similarity scores."
   ]
  },
  {
   "cell_type": "code",
   "execution_count": null,
   "metadata": {},
   "outputs": [
    {
     "ename": "NameError",
     "evalue": "name 'rating' is not defined",
     "output_type": "error",
     "traceback": [
      "\u001b[0;31m---------------------------------------------------------------------------\u001b[0m",
      "\u001b[0;31mNameError\u001b[0m                                 Traceback (most recent call last)",
      "\u001b[0;32m/var/folders/s_/77my9lpx3fvfgj8x3h74733r0000gn/T/ipykernel_62390/999180779.py\u001b[0m in \u001b[0;36m<module>\u001b[0;34m\u001b[0m\n\u001b[1;32m      1\u001b[0m \u001b[0;31m# TODO:\u001b[0m\u001b[0;34m\u001b[0m\u001b[0;34m\u001b[0m\u001b[0m\n\u001b[0;32m----> 2\u001b[0;31m \u001b[0mrating_sorted\u001b[0m \u001b[0;34m=\u001b[0m \u001b[0msorted\u001b[0m\u001b[0;34m(\u001b[0m\u001b[0mrating\u001b[0m\u001b[0;34m.\u001b[0m\u001b[0mitems\u001b[0m\u001b[0;34m(\u001b[0m\u001b[0;34m)\u001b[0m\u001b[0;34m,\u001b[0m \u001b[0mkey\u001b[0m \u001b[0;34m=\u001b[0m \u001b[0;32mlambda\u001b[0m \u001b[0mkv\u001b[0m\u001b[0;34m:\u001b[0m\u001b[0;34m(\u001b[0m\u001b[0mkv\u001b[0m\u001b[0;34m[\u001b[0m\u001b[0;36m1\u001b[0m\u001b[0;34m]\u001b[0m\u001b[0;34m,\u001b[0m \u001b[0mkv\u001b[0m\u001b[0;34m[\u001b[0m\u001b[0;36m0\u001b[0m\u001b[0;34m]\u001b[0m\u001b[0;34m)\u001b[0m\u001b[0;34m,\u001b[0m \u001b[0mreverse\u001b[0m\u001b[0;34m=\u001b[0m\u001b[0;32mTrue\u001b[0m\u001b[0;34m)\u001b[0m\u001b[0;34m\u001b[0m\u001b[0;34m\u001b[0m\u001b[0m\n\u001b[0m\u001b[1;32m      3\u001b[0m \u001b[0mprint\u001b[0m\u001b[0;34m(\u001b[0m\u001b[0mrating_sorted\u001b[0m\u001b[0;34m[\u001b[0m\u001b[0;34m:\u001b[0m\u001b[0;36m5\u001b[0m\u001b[0;34m]\u001b[0m\u001b[0;34m)\u001b[0m\u001b[0;34m\u001b[0m\u001b[0;34m\u001b[0m\u001b[0m\n",
      "\u001b[0;31mNameError\u001b[0m: name 'rating' is not defined"
     ]
    }
   ],
   "source": [
    "# TODO: \n",
    "rating_sorted = sorted(rating.items(), key = lambda kv:(kv[1], kv[0]), reverse=True)\n",
    "print(rating_sorted[:5])"
   ]
  },
  {
   "cell_type": "code",
   "execution_count": null,
   "metadata": {},
   "outputs": [],
   "source": [
    "# TODO: "
   ]
  },
  {
   "cell_type": "code",
   "execution_count": null,
   "metadata": {},
   "outputs": [],
   "source": [
    "# TODO: "
   ]
  },
  {
   "cell_type": "markdown",
   "metadata": {},
   "source": [
    "**TODO: Write your observations here**"
   ]
  },
  {
   "cell_type": "markdown",
   "metadata": {},
   "source": [
    "## References\n",
    "\n",
    "[1] https://steamcommunity.com/dev/apikey"
   ]
  }
 ],
 "metadata": {
  "kernelspec": {
   "display_name": "Python 3.9.12 64-bit",
   "language": "python",
   "name": "python3"
  },
  "language_info": {
   "codemirror_mode": {
    "name": "ipython",
    "version": 3
   },
   "file_extension": ".py",
   "mimetype": "text/x-python",
   "name": "python",
   "nbconvert_exporter": "python",
   "pygments_lexer": "ipython3",
   "version": "3.9.12"
  },
  "vscode": {
   "interpreter": {
    "hash": "b0fa6594d8f4cbf19f97940f81e996739fb7646882a419484c72d19e05852a7e"
   }
  }
 },
 "nbformat": 4,
 "nbformat_minor": 2
}
